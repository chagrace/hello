{
 "cells": [
  {
   "cell_type": "code",
   "execution_count": 1,
   "id": "fedbe344",
   "metadata": {},
   "outputs": [
    {
     "name": "stderr",
     "output_type": "stream",
     "text": [
      "C:\\Users\\cwg12\\AppData\\Local\\Temp/ipykernel_11572/3712437291.py:3: FutureWarning: The pandas.datetime class is deprecated and will be removed from pandas in a future version. Import from datetime module instead.\n",
      "  from pandas import datetime\n"
     ]
    },
    {
     "data": {
      "text/html": [
       "<div>\n",
       "<style scoped>\n",
       "    .dataframe tbody tr th:only-of-type {\n",
       "        vertical-align: middle;\n",
       "    }\n",
       "\n",
       "    .dataframe tbody tr th {\n",
       "        vertical-align: top;\n",
       "    }\n",
       "\n",
       "    .dataframe thead th {\n",
       "        text-align: right;\n",
       "    }\n",
       "</style>\n",
       "<table border=\"1\" class=\"dataframe\">\n",
       "  <thead>\n",
       "    <tr style=\"text-align: right;\">\n",
       "      <th></th>\n",
       "      <th>CO(GT)</th>\n",
       "      <th>PT08.S1(CO)</th>\n",
       "      <th>PT08.S2(NMHC)</th>\n",
       "      <th>NOx(GT)</th>\n",
       "      <th>PT08.S3(NOx)</th>\n",
       "      <th>NO2(GT)</th>\n",
       "      <th>PT08.S4(NO2)</th>\n",
       "      <th>PT08.S5(O3)</th>\n",
       "      <th>RH</th>\n",
       "      <th>AH</th>\n",
       "      <th>C6H6(GT)</th>\n",
       "    </tr>\n",
       "    <tr>\n",
       "      <th>Datetime</th>\n",
       "      <th></th>\n",
       "      <th></th>\n",
       "      <th></th>\n",
       "      <th></th>\n",
       "      <th></th>\n",
       "      <th></th>\n",
       "      <th></th>\n",
       "      <th></th>\n",
       "      <th></th>\n",
       "      <th></th>\n",
       "      <th></th>\n",
       "    </tr>\n",
       "  </thead>\n",
       "  <tbody>\n",
       "    <tr>\n",
       "      <th>2004-03-10 18:00:00</th>\n",
       "      <td>2.6</td>\n",
       "      <td>1360.0</td>\n",
       "      <td>1046.0</td>\n",
       "      <td>166.0</td>\n",
       "      <td>1056.0</td>\n",
       "      <td>113.0</td>\n",
       "      <td>1692.0</td>\n",
       "      <td>1268.0</td>\n",
       "      <td>48.9</td>\n",
       "      <td>0.7578</td>\n",
       "      <td>11.9</td>\n",
       "    </tr>\n",
       "    <tr>\n",
       "      <th>2004-03-10 19:00:00</th>\n",
       "      <td>2.0</td>\n",
       "      <td>1292.0</td>\n",
       "      <td>955.0</td>\n",
       "      <td>103.0</td>\n",
       "      <td>1174.0</td>\n",
       "      <td>92.0</td>\n",
       "      <td>1559.0</td>\n",
       "      <td>972.0</td>\n",
       "      <td>47.7</td>\n",
       "      <td>0.7255</td>\n",
       "      <td>9.4</td>\n",
       "    </tr>\n",
       "    <tr>\n",
       "      <th>2004-03-10 20:00:00</th>\n",
       "      <td>2.2</td>\n",
       "      <td>1402.0</td>\n",
       "      <td>939.0</td>\n",
       "      <td>131.0</td>\n",
       "      <td>1140.0</td>\n",
       "      <td>114.0</td>\n",
       "      <td>1555.0</td>\n",
       "      <td>1074.0</td>\n",
       "      <td>54.0</td>\n",
       "      <td>0.7502</td>\n",
       "      <td>9.0</td>\n",
       "    </tr>\n",
       "    <tr>\n",
       "      <th>2004-03-10 21:00:00</th>\n",
       "      <td>2.2</td>\n",
       "      <td>1376.0</td>\n",
       "      <td>948.0</td>\n",
       "      <td>172.0</td>\n",
       "      <td>1092.0</td>\n",
       "      <td>122.0</td>\n",
       "      <td>1584.0</td>\n",
       "      <td>1203.0</td>\n",
       "      <td>60.0</td>\n",
       "      <td>0.7867</td>\n",
       "      <td>9.2</td>\n",
       "    </tr>\n",
       "    <tr>\n",
       "      <th>2004-03-10 22:00:00</th>\n",
       "      <td>1.6</td>\n",
       "      <td>1272.0</td>\n",
       "      <td>836.0</td>\n",
       "      <td>131.0</td>\n",
       "      <td>1205.0</td>\n",
       "      <td>116.0</td>\n",
       "      <td>1490.0</td>\n",
       "      <td>1110.0</td>\n",
       "      <td>59.6</td>\n",
       "      <td>0.7888</td>\n",
       "      <td>6.5</td>\n",
       "    </tr>\n",
       "  </tbody>\n",
       "</table>\n",
       "</div>"
      ],
      "text/plain": [
       "                     CO(GT)  PT08.S1(CO)  PT08.S2(NMHC)  NOx(GT)  \\\n",
       "Datetime                                                           \n",
       "2004-03-10 18:00:00     2.6       1360.0         1046.0    166.0   \n",
       "2004-03-10 19:00:00     2.0       1292.0          955.0    103.0   \n",
       "2004-03-10 20:00:00     2.2       1402.0          939.0    131.0   \n",
       "2004-03-10 21:00:00     2.2       1376.0          948.0    172.0   \n",
       "2004-03-10 22:00:00     1.6       1272.0          836.0    131.0   \n",
       "\n",
       "                     PT08.S3(NOx)  NO2(GT)  PT08.S4(NO2)  PT08.S5(O3)    RH  \\\n",
       "Datetime                                                                      \n",
       "2004-03-10 18:00:00        1056.0    113.0        1692.0       1268.0  48.9   \n",
       "2004-03-10 19:00:00        1174.0     92.0        1559.0        972.0  47.7   \n",
       "2004-03-10 20:00:00        1140.0    114.0        1555.0       1074.0  54.0   \n",
       "2004-03-10 21:00:00        1092.0    122.0        1584.0       1203.0  60.0   \n",
       "2004-03-10 22:00:00        1205.0    116.0        1490.0       1110.0  59.6   \n",
       "\n",
       "                         AH  C6H6(GT)  \n",
       "Datetime                               \n",
       "2004-03-10 18:00:00  0.7578      11.9  \n",
       "2004-03-10 19:00:00  0.7255       9.4  \n",
       "2004-03-10 20:00:00  0.7502       9.0  \n",
       "2004-03-10 21:00:00  0.7867       9.2  \n",
       "2004-03-10 22:00:00  0.7888       6.5  "
      ]
     },
     "execution_count": 1,
     "metadata": {},
     "output_type": "execute_result"
    }
   ],
   "source": [
    "import pandas as pd\n",
    "import numpy as np\n",
    "from pandas import datetime\n",
    "from matplotlib import pyplot as plt\n",
    "\n",
    "\"\"\"\n",
    "Load AirQualityUCI Data\n",
    "\"\"\"\n",
    "\n",
    "def parser(x):\n",
    "    return datetime.strptime(x, '%Y-%m-%d %H:%M:%S')\n",
    "\n",
    "input_file = './data/AirQualityUCI_refined.csv'\n",
    "\n",
    "df = pd.read_csv(input_file,\n",
    "                 index_col=[0],\n",
    "                 parse_dates=[0],\n",
    "                 date_parser=parser)\n",
    "\n",
    "df.head()"
   ]
  },
  {
   "cell_type": "code",
   "execution_count": 2,
   "id": "9b4d5575",
   "metadata": {},
   "outputs": [
    {
     "data": {
      "text/plain": [
       "<AxesSubplot:xlabel='Datetime'>"
      ]
     },
     "execution_count": 2,
     "metadata": {},
     "output_type": "execute_result"
    },
    {
     "data": {
      "image/png": "[encoded data removed]",
      "text/plain": [
       "<Figure size 432x288 with 1 Axes>"
      ]
     },
     "metadata": {
      "needs_background": "light"
     },
     "output_type": "display_data"
    }
   ],
   "source": [
    "df['PT08.S3(NOx)'].plot()"
   ]
  },
  {
   "cell_type": "code",
   "execution_count": 3,
   "id": "e095dcc0",
   "metadata": {},
   "outputs": [],
   "source": [
    "co = df['PT08.S3(NOx)'].interpolate().copy()"
   ]
  },
  {
   "cell_type": "code",
   "execution_count": 4,
   "id": "96c1c40f",
   "metadata": {},
   "outputs": [
    {
     "name": "stdout",
     "output_type": "stream",
     "text": [
      "654.0 804.0 968.0\n"
     ]
    }
   ],
   "source": [
    "#IQR-based\n",
    "\n",
    "q1 = co.quantile(0.25)\n",
    "median = co.quantile(0.5)\n",
    "q3 = co.quantile(0.75)\n",
    "\n",
    "print(q1,median,q3)"
   ]
  },
  {
   "cell_type": "code",
   "execution_count": 5,
   "id": "3d2acc3c",
   "metadata": {},
   "outputs": [
    {
     "name": "stdout",
     "output_type": "stream",
     "text": [
      "1439.0 183.0\n"
     ]
    }
   ],
   "source": [
    "iqr = q3 - q1\n",
    "upper_fence = q3 + 1.5 * iqr\n",
    "lower_fence = q1 - 1.5 * iqr\n",
    "print(upper_fence, lower_fence)"
   ]
  },
  {
   "cell_type": "code",
   "execution_count": 6,
   "id": "0341794a",
   "metadata": {},
   "outputs": [
    {
     "name": "stdout",
     "output_type": "stream",
     "text": [
      "Datetime\n",
      "2004-03-11 00:00:00    1462.0\n",
      "2004-03-11 01:00:00    1453.0\n",
      "2004-03-11 02:00:00    1579.0\n",
      "2004-03-11 03:00:00    1705.0\n",
      "2004-03-11 04:00:00    1818.0\n",
      "                        ...  \n",
      "2005-03-01 03:00:00    1791.0\n",
      "2005-03-01 04:00:00    1804.0\n",
      "2005-03-01 05:00:00    1727.0\n",
      "2005-03-01 06:00:00    1677.0\n",
      "2005-03-07 04:00:00    1490.0\n",
      "Name: PT08.S3(NOx), Length: 239, dtype: float64\n"
     ]
    }
   ],
   "source": [
    "#이상치 탐지\n",
    "\n",
    "outliers = co.loc[(co > upper_fence) | (co < lower_fence)]\n",
    "print(outliers)"
   ]
  },
  {
   "cell_type": "code",
   "execution_count": 7,
   "id": "42d34feb",
   "metadata": {},
   "outputs": [
    {
     "data": {
      "text/plain": [
       "<seaborn.axisgrid.FacetGrid at 0x1f13ea3c790>"
      ]
     },
     "execution_count": 7,
     "metadata": {},
     "output_type": "execute_result"
    },
    {
     "data": {
      "image/png": "[encoded data removed]",
      "text/plain": [
       "<Figure size 360x360 with 1 Axes>"
      ]
     },
     "metadata": {
      "needs_background": "light"
     },
     "output_type": "display_data"
    }
   ],
   "source": [
    "\"\"\"\n",
    "Detecting Outliers with Z-Scores\n",
    "\"\"\"\n",
    "import seaborn as sns\n",
    "# Visualize the distribution of the 'PT08.S3(NOx)' variable\n",
    "sns.displot(co)"
   ]
  },
  {
   "cell_type": "code",
   "execution_count": 8,
   "id": "e6690b14",
   "metadata": {},
   "outputs": [
    {
     "name": "stdout",
     "output_type": "stream",
     "text": [
      "832.7588970823982 255.69616900657363\n"
     ]
    }
   ],
   "source": [
    "# Mean, Standard deviation\n",
    "mean = np.mean(co) ##평균\n",
    "std = np.std(co) ##표준편차\n",
    "\n",
    "print(mean, std)"
   ]
  },
  {
   "cell_type": "code",
   "execution_count": 9,
   "id": "d143b4d5",
   "metadata": {},
   "outputs": [
    {
     "name": "stdout",
     "output_type": "stream",
     "text": [
      "3.4112404042126165\n",
      "3.8531711552247483\n",
      "4.244260315412475\n",
      "3.5402998270745667\n",
      "3.3134681141656848\n",
      "4.146488025365544\n",
      "4.154309808569298\n",
      "3.3330225721750715\n",
      "3.0788146180530487\n",
      "3.833616697215362\n",
      "3.6106958759083576\n",
      "3.7280226239646757\n",
      "3.395596837805108\n",
      "4.205151399393703\n",
      "3.419062187416371\n",
      "4.310745472644389\n",
      "3.0162403524230124\n",
      "3.168765124896226\n",
      "3.051438376839908\n",
      "3.387775054601353\n",
      "3.5833196346952167\n",
      "3.8844582880397667\n",
      "3.4112404042126165\n",
      "3.0592601600436624\n",
      "3.8688147216322575\n",
      "4.2638147734218625\n",
      "3.6106958759083576\n",
      "3.051438376839908\n",
      "3.716289949159044\n",
      "3.462081995037021\n",
      "3.4777255614445304\n",
      "3.8844582880397667\n",
      "3.137477992081208\n",
      "3.098369076062435\n",
      "3.8101513476040982\n",
      "4.189507832986194\n",
      "3.794507781196589\n",
      "3.763220648381571\n",
      "4.334210822255653\n",
      "4.240349423810598\n",
      "3.4034186210088624\n",
      "3.6146067675102347\n",
      "3.254804740137526\n",
      "3.0045076776173807\n",
      "3.2469829569337714\n",
      "3.168765124896226\n",
      "3.6693592499365164\n",
      "4.8660920801109615\n",
      "4.807428706082803\n",
      "4.424161329098831\n",
      "3.7553988651778165\n",
      "3.2508938485356484\n",
      "3.4542602118332666\n",
      "5.038171310593562\n",
      "4.529755402349516\n",
      "3.677181033140271\n",
      "3.774953323187203\n",
      "3.3056463309619306\n",
      "4.322478147450021\n",
      "3.258715631739403\n",
      "3.587230526297094\n",
      "3.6576265751308847\n",
      "3.6850028163440256\n",
      "3.387775054601353\n",
      "4.1738642665786845\n",
      "4.388963304681935\n",
      "4.729210874045258\n",
      "4.803517814480926\n",
      "4.936488128944752\n",
      "4.600151451183307\n",
      "3.387775054601353\n",
      "3.516834477463303\n",
      "3.4112404042126165\n",
      "3.188319582905612\n",
      "3.1061908592661895\n",
      "3.8297058056134845\n",
      "3.7397552987703073\n",
      "4.291191014635003\n",
      "4.748765332054644\n",
      "4.936488128944752\n",
      "3.2626265233412806\n",
      "4.455448461913848\n",
      "3.5051018026576712\n",
      "3.051438376839908\n",
      "4.881735646518471\n",
      "5.8594585469877885\n",
      "6.751141832215806\n",
      "5.7147555577183295\n",
      "7.2360923908485875\n",
      "5.843814980580279\n",
      "5.808616956163384\n",
      "6.684656674983892\n",
      "3.512923585861426\n",
      "3.207874040914999\n",
      "3.4933691278520396\n",
      "3.4112404042126165\n",
      "3.2000522577112442\n",
      "3.376042379795721\n",
      "3.7241117323627986\n",
      "3.5676760682877076\n",
      "3.0866364012568033\n",
      "3.6850028163440256\n",
      "4.0995573261430165\n",
      "3.180497799701858\n",
      "3.0357948104323986\n",
      "3.2508938485356484\n",
      "3.254804740137526\n",
      "3.747577081974062\n",
      "3.7984186727984666\n",
      "3.4972800194539166\n",
      "3.301735439360053\n"
     ]
    }
   ],
   "source": [
    "# Calculate Z-scores for each data points\n",
    "outliers = []\n",
    "thres = 3\n",
    "\n",
    "for i in co :\n",
    "    z_score = (i - mean)/ std\n",
    "    if np.abs(z_score) > thres :\n",
    "        print(z_score)\n",
    "        outliers.append(i)"
   ]
  }
 ],
 "metadata": {
  "kernelspec": {
   "display_name": "Python 3 (ipykernel)",
   "language": "python",
   "name": "python3"
  },
  "language_info": {
   "codemirror_mode": {
    "name": "ipython",
    "version": 3
   },
   "file_extension": ".py",
   "mimetype": "text/x-python",
   "name": "python",
   "nbconvert_exporter": "python",
   "pygments_lexer": "ipython3",
   "version": "3.9.7"
  }
 },
 "nbformat": 4,
 "nbformat_minor": 5
}
